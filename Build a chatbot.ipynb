{
 "cells": [
  {
   "cell_type": "code",
   "execution_count": null,
   "id": "33ae52cd",
   "metadata": {},
   "outputs": [],
   "source": [
    "pip install nltk"
   ]
  },
  {
   "cell_type": "code",
   "execution_count": null,
   "id": "effff2bd",
   "metadata": {},
   "outputs": [],
   "source": [
    "pip install newspaper3k"
   ]
  },
  {
   "cell_type": "code",
   "execution_count": null,
   "id": "42b8398d",
   "metadata": {},
   "outputs": [],
   "source": [
    "from newspaper import Article\n",
    "import random\n",
    "import string\n",
    "import nltk\n",
    "\n",
    "from sklearn.metrics.pairwise import cosine_similarity\n",
    "from sklearn.feature_extraction.text import CountVectorizer\n",
    "import numpy as np\n",
    "import warnings\n",
    "warnings.filterwarnings('ignore')"
   ]
  },
  {
   "cell_type": "code",
   "execution_count": null,
   "id": "7a989e81",
   "metadata": {},
   "outputs": [],
   "source": [
    "#download the punkt package\n",
    "nltk.download('punkt',quiet=True)"
   ]
  },
  {
   "cell_type": "code",
   "execution_count": null,
   "id": "e69705be",
   "metadata": {},
   "outputs": [],
   "source": [
    "#Get the article\n",
    "article=Article('https://www.mayoclinic.org/diseases-conditions/chronic-kidney-disease/symptoms-causes/syc-20354521#:~:text=Chronic%20kidney%20disease%20occurs%20when,High%20blood%20pressure')\n",
    "article.download()\n",
    "article.parse()\n",
    "article.nlp()\n",
    "corpus=article.text"
   ]
  },
  {
   "cell_type": "code",
   "execution_count": null,
   "id": "08219f22",
   "metadata": {},
   "outputs": [],
   "source": [
    "#print the article\n",
    "print(corpus)"
   ]
  },
  {
   "cell_type": "code",
   "execution_count": null,
   "id": "e50af3cc",
   "metadata": {},
   "outputs": [],
   "source": [
    "#Tokenization\n",
    "text=corpus\n",
    "sentence_list=nltk.sent_tokenize(text)# A list of sentences"
   ]
  },
  {
   "cell_type": "code",
   "execution_count": null,
   "id": "239bb2b2",
   "metadata": {},
   "outputs": [],
   "source": [
    "# print the sentence_list\n",
    "print(sentence_list)"
   ]
  },
  {
   "cell_type": "code",
   "execution_count": null,
   "id": "ed7f22dc",
   "metadata": {},
   "outputs": [],
   "source": [
    "# A function to return a random greeting response to a users greetings\n",
    "def greeting_response(text):\n",
    "    text=text.lower()\n",
    "    \n",
    "    #Bots greetings response\n",
    "    bot_greetings=['howdy','hi','hey','hello','hola']\n",
    "    #user greetings\n",
    "    user_greetings=['hi','hey','hello','hola','greetings','wassup']\n",
    "    \n",
    "    for word in text.split():\n",
    "        if word in user_greetings:\n",
    "            return random.choice(bot_greetings)"
   ]
  },
  {
   "cell_type": "code",
   "execution_count": null,
   "id": "1d2465bb",
   "metadata": {},
   "outputs": [],
   "source": [
    "def index_sort(list_var):\n",
    "    length=len(list_var)\n",
    "    list_index=list(range(0,length))\n",
    "    \n",
    "    x=list_var\n",
    "    for i in range(length):\n",
    "        for j in range(length):\n",
    "            if x[list_index[i]]> x[list_index[j]]:\n",
    "                #swap\n",
    "                temp=list_index[i]\n",
    "                list_index[i]=list_index[j]\n",
    "                list_index[j]=temp\n",
    "                \n",
    "                return  list_index"
   ]
  },
  {
   "cell_type": "code",
   "execution_count": null,
   "id": "4ba826d1",
   "metadata": {},
   "outputs": [],
   "source": [
    "# create the bots response\n",
    "def bot_response(user_input):\n",
    "    user_input=user_input.lower()\n",
    "    sentence_list.append(user_input)\n",
    "    bot_response=''\n",
    "    cm=CountVectorizer().fit_transform(sentence_list)\n",
    "    similarity_scores=cosine_similarity(cm[-1],cm)\n",
    "    similarity_scores_list=similarity_scores.flatten()\n",
    "    index=index_sort( similarity_scores_list)\n",
    "    index=index[1:]\n",
    "    response_flag=0\n",
    "    \n",
    "\n",
    "    j=0\n",
    "\n",
    "    for i in range (len(index)):\n",
    "        if similarity_scores_list[index[i]]>0.0:\n",
    "            bot_response=bot_response+''+sentence_list[index[i]]\n",
    "            response_flag=1\n",
    "            j=j+1\n",
    "        \n",
    "        if j>2:\n",
    "        \n",
    "          break\n",
    "        if response_flag==0:\n",
    "            bot_response=bot_response+''+\"I apologize , I do not understand.\"\n",
    "        \n",
    "        sentence_list.remove(user_input)\n",
    "        return bot_response\n",
    "  \n",
    "                   \n",
    "        "
   ]
  },
  {
   "cell_type": "code",
   "execution_count": null,
   "id": "56089d46",
   "metadata": {},
   "outputs": [],
   "source": [
    "# start chat\n",
    "print('Doc Bot: Iam Doctor Bot or Doc for short .I will answer your queries about chronic Kidney Disease.If you want to exist type bye.')\n",
    "exist_list=['exist','see you later','bye']\n",
    "while(True):\n",
    "    user_input=input()\n",
    "    if user_input.lower()in exist_list:\n",
    "        print('Doc chat you later!')\n",
    "        break\n",
    "        \n",
    "    else:\n",
    "        if greeting_response(user_input)!=None:\n",
    "            print('Doc Bot'+greeting_response(user_input))\n",
    "    else:\n",
    "        print('Doc Bot'+bot_response(user_input))\n",
    "            "
   ]
  },
  {
   "cell_type": "code",
   "execution_count": null,
   "id": "e861befc",
   "metadata": {},
   "outputs": [],
   "source": []
  },
  {
   "cell_type": "code",
   "execution_count": null,
   "id": "c8cc5604",
   "metadata": {},
   "outputs": [],
   "source": []
  },
  {
   "cell_type": "code",
   "execution_count": null,
   "id": "7aff160a",
   "metadata": {},
   "outputs": [],
   "source": []
  }
 ],
 "metadata": {
  "kernelspec": {
   "display_name": "Python 3 (ipykernel)",
   "language": "python",
   "name": "python3"
  },
  "language_info": {
   "codemirror_mode": {
    "name": "ipython",
    "version": 3
   },
   "file_extension": ".py",
   "mimetype": "text/x-python",
   "name": "python",
   "nbconvert_exporter": "python",
   "pygments_lexer": "ipython3",
   "version": "3.9.12"
  }
 },
 "nbformat": 4,
 "nbformat_minor": 5
}
